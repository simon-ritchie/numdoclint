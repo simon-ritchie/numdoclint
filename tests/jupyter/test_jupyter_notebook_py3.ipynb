{
 "cells": [
  {
   "cell_type": "code",
   "execution_count": 1,
   "metadata": {},
   "outputs": [],
   "source": [
    "import pandas as pd\n",
    "import numpy as np"
   ]
  },
  {
   "cell_type": "markdown",
   "metadata": {},
   "source": [
    "# Markdown cell\n",
    "\n",
    "Contents of this cell should be ignored.\n",
    "\n",
    "\n",
    "```py\n",
    "def test_markdown_cell(price):\n",
    "    pass\n",
    "```"
   ]
  },
  {
   "cell_type": "code",
   "execution_count": 2,
   "metadata": {},
   "outputs": [],
   "source": [
    "def test_valid_condition(price: int=100, name: str='apple') -> int:\n",
    "    \"\"\"\n",
    "    Sample function.\n",
    "\n",
    "    Parameters\n",
    "    ----------\n",
    "    price : int, default 100\n",
    "        Sample price.\n",
    "    name : int, default 'apple'\n",
    "        Sample name.\n",
    "    \n",
    "    Returns\n",
    "    ----------\n",
    "    int\n",
    "        Sample value.\n",
    "    \"\"\"\n",
    "    return 200"
   ]
  },
  {
   "cell_type": "code",
   "execution_count": 3,
   "metadata": {},
   "outputs": [],
   "source": [
    "def test_lacked_docstring_function_description(price):\n",
    "    \"\"\"\n",
    "    Parameters\n",
    "    ----------\n",
    "    price : int\n",
    "        Sample price.\n",
    "    \"\"\"\n",
    "    pass\n",
    "\n",
    "\n",
    "def test_lacked_argument(price):\n",
    "    \"\"\"\n",
    "    Sample function.\n",
    "\n",
    "    Parameters\n",
    "    ----------\n",
    "    price : int\n",
    "        Sample price.\n",
    "    lacked_arg : str\n",
    "        Sample string.\n",
    "    \"\"\"\n",
    "    pass"
   ]
  },
  {
   "cell_type": "code",
   "execution_count": 4,
   "metadata": {},
   "outputs": [],
   "source": [
    "def test_lacked_docstring_parameter_description(price, lacked_arg):\n",
    "    \"\"\"\n",
    "    Sample function.\n",
    "\n",
    "    Parameters\n",
    "    ----------\n",
    "    price : int\n",
    "        Sample price.\n",
    "    \"\"\"\n",
    "    pass"
   ]
  },
  {
   "cell_type": "code",
   "execution_count": 5,
   "metadata": {},
   "outputs": [],
   "source": [
    "def test_lacked_docstring_parameter_type_information(price):\n",
    "    \"\"\"\n",
    "    Sample function.\n",
    "\n",
    "    Parameters\n",
    "    ----------\n",
    "    price\n",
    "        Sample price (type not specified).\n",
    "    \"\"\"\n",
    "    pass\n",
    "\n",
    "\n",
    "def test_lacked_docstring_parameter_description(price, name):\n",
    "    \"\"\"\n",
    "    Sample function.\n",
    "\n",
    "    Parameters\n",
    "    ----------\n",
    "    price : int\n",
    "    name : str\n",
    "    \"\"\"\n",
    "    pass\n",
    "\n",
    "\n",
    "def test_argument_and_docstring_parameter_order_mismatching(price, name):\n",
    "    \"\"\"\n",
    "    Sample function.\n",
    "\n",
    "    Parameters\n",
    "    ----------\n",
    "    name : str\n",
    "        Sample name.\n",
    "    price : int\n",
    "        Sample price.\n",
    "    \"\"\"\n",
    "    pass"
   ]
  },
  {
   "cell_type": "code",
   "execution_count": 6,
   "metadata": {},
   "outputs": [],
   "source": [
    "def test_lacked_docstring_default_value_description(price=100):\n",
    "    \"\"\"\n",
    "    Sample function.\n",
    "\n",
    "    Parameters\n",
    "    ----------\n",
    "    price : int\n",
    "        Sample price.\n",
    "    \"\"\"\n",
    "    pass"
   ]
  },
  {
   "cell_type": "code",
   "execution_count": 7,
   "metadata": {},
   "outputs": [],
   "source": [
    "def test_lacked_argument_default_value_while_docstring_default_value_exists(\n",
    "        price):\n",
    "    \"\"\"\n",
    "    Sample function.\n",
    "\n",
    "    Parameters\n",
    "    ----------\n",
    "    price : int, default 100\n",
    "        Sample price.\n",
    "    \"\"\"\n",
    "    pass"
   ]
  },
  {
   "cell_type": "code",
   "execution_count": 8,
   "metadata": {},
   "outputs": [],
   "source": [
    "def test_lacked_docstring_of_return_value():\n",
    "    \"\"\"\n",
    "    Sample function.\n",
    "    \"\"\"\n",
    "    return 100\n",
    "\n",
    "\n",
    "def test_lacked_docstring_return_value_description():\n",
    "    \"\"\"\n",
    "    Sample function.\n",
    "\n",
    "    Returns\n",
    "    -------\n",
    "    price : int\n",
    "    \"\"\"\n",
    "    return 100\n",
    "\n",
    "\n",
    "def test_lacked_return_value_while_returns_docstring_section_exists():\n",
    "    \"\"\"\n",
    "    Sample function.\n",
    "\n",
    "    Returns\n",
    "    -------\n",
    "    price : int\n",
    "        Sample price\n",
    "    \"\"\"\n",
    "    pass"
   ]
  },
  {
   "cell_type": "code",
   "execution_count": null,
   "metadata": {},
   "outputs": [],
   "source": []
  }
 ],
 "metadata": {
  "kernelspec": {
   "display_name": "Python 3",
   "language": "python",
   "name": "python3"
  },
  "language_info": {
   "codemirror_mode": {
    "name": "ipython",
    "version": 3
   },
   "file_extension": ".py",
   "mimetype": "text/x-python",
   "name": "python",
   "nbconvert_exporter": "python",
   "pygments_lexer": "ipython3",
   "version": "3.6.8"
  },
  "toc": {
   "base_numbering": 1,
   "nav_menu": {},
   "number_sections": true,
   "sideBar": true,
   "skip_h1_title": false,
   "title_cell": "Table of Contents",
   "title_sidebar": "Contents",
   "toc_cell": false,
   "toc_position": {},
   "toc_section_display": true,
   "toc_window_display": false
  }
 },
 "nbformat": 4,
 "nbformat_minor": 2
}
